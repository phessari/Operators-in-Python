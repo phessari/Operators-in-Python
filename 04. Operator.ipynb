{
 "cells": [
  {
   "cell_type": "markdown",
   "id": "9f497451",
   "metadata": {},
   "source": [
    "# Operators\n",
    "\n",
    "are used to perform operation between `values (variables).` \n",
    "`Operands` are the variables that the operator is applied to.\n",
    "\n",
    "`x + y`: &emsp; `x` and `y` are operand and `+` is operation.\n",
    "\n",
    "\n",
    "<b>\n",
    "    \n",
    "1. Arithmatic Operators \n",
    "\n",
    "2. Assignment Operators\n",
    "\n",
    "3. Comparison Opertors\n",
    "\n",
    "4. Logical Operators\n",
    "\n",
    "5. Membership Operator\n",
    "\n",
    "6. Identity Operators  <b>"
   ]
  },
  {
   "cell_type": "markdown",
   "id": "963c4921",
   "metadata": {},
   "source": [
    "## 1. Arithmatic Operators \n",
    "\n",
    "`+` &emsp; Addition  + \n",
    "\n",
    "`-` &emsp; Subtraction  - \n",
    "\n",
    "`*` &emsp; Multiplication *\n",
    "\n",
    "`/` &emsp; Division / (Integer Division //, Modulus or Remainder % )\n",
    "\n",
    "`**` &emsp; Exponential  **"
   ]
  },
  {
   "cell_type": "code",
   "execution_count": null,
   "id": "08d1fb42",
   "metadata": {},
   "outputs": [],
   "source": [
    "x = 5\n",
    "y = 12"
   ]
  },
  {
   "cell_type": "code",
   "execution_count": null,
   "id": "3638569b",
   "metadata": {},
   "outputs": [],
   "source": [
    "x + y"
   ]
  },
  {
   "cell_type": "code",
   "execution_count": null,
   "id": "c31e2233",
   "metadata": {},
   "outputs": [],
   "source": [
    "x - y"
   ]
  },
  {
   "cell_type": "code",
   "execution_count": null,
   "id": "8bfd506f",
   "metadata": {},
   "outputs": [],
   "source": [
    "x * y"
   ]
  },
  {
   "cell_type": "code",
   "execution_count": null,
   "id": "ef268cd6",
   "metadata": {},
   "outputs": [],
   "source": [
    "x / y"
   ]
  },
  {
   "cell_type": "code",
   "execution_count": null,
   "id": "c19daf5d",
   "metadata": {},
   "outputs": [],
   "source": [
    "x // y"
   ]
  },
  {
   "cell_type": "code",
   "execution_count": null,
   "id": "a7d54c8f",
   "metadata": {},
   "outputs": [],
   "source": [
    "x % y"
   ]
  },
  {
   "cell_type": "markdown",
   "id": "e8e9d074",
   "metadata": {},
   "source": [
    "## 2. Assignment Operators\n",
    "\n",
    "are used to assign values to variables. \n",
    "\n",
    "\n",
    "`=` &emsp; Assignment Operator   \n",
    "  \n",
    "`+=` &emsp; Addition Assignment\n",
    "    \n",
    "`-=` &emsp; Subtraction Assignment\n",
    "    \n",
    "`*=` &emsp; Multiplication Assignment\n",
    "    \n",
    "`/=` &emsp; Division Assignment\n",
    "    \n",
    "`%=` &emsp; Remainder Assignment\n",
    "    \n",
    "`**=` &emsp; Exponent Assignment    \n"
   ]
  },
  {
   "cell_type": "code",
   "execution_count": null,
   "id": "f3a89d12",
   "metadata": {},
   "outputs": [],
   "source": [
    "x = 2                 # assign 2 to x\n",
    "print(x)"
   ]
  },
  {
   "cell_type": "code",
   "execution_count": null,
   "id": "421c9aaa",
   "metadata": {},
   "outputs": [],
   "source": [
    "x = x + 3            # assign x + 3 to x\n",
    "print(x)"
   ]
  },
  {
   "cell_type": "code",
   "execution_count": null,
   "id": "490897a4",
   "metadata": {},
   "outputs": [],
   "source": [
    "x = 2               # assign 2 to x\n",
    "x += 3              # assign x + 3 to x\n",
    "print(x)"
   ]
  },
  {
   "cell_type": "code",
   "execution_count": null,
   "id": "27e1e829",
   "metadata": {},
   "outputs": [],
   "source": [
    "y = 12\n",
    "y -= 2\n",
    "print(y)"
   ]
  },
  {
   "cell_type": "code",
   "execution_count": null,
   "id": "e34f95ae",
   "metadata": {},
   "outputs": [],
   "source": [
    "y = 12\n",
    "y /= 2\n",
    "print(y)"
   ]
  },
  {
   "cell_type": "code",
   "execution_count": null,
   "id": "11159952",
   "metadata": {},
   "outputs": [],
   "source": [
    "a, b = 4, 6\n",
    "print('a =', a,' and ', 'b =', b)"
   ]
  },
  {
   "cell_type": "code",
   "execution_count": null,
   "id": "acdfc05f",
   "metadata": {},
   "outputs": [],
   "source": []
  },
  {
   "cell_type": "markdown",
   "id": "a37f19c6",
   "metadata": {},
   "source": [
    "## 3. Comparison Operators\n",
    "\n",
    "`==`  &emsp; equal\n",
    "\n",
    "`!=` &emsp; not equal\n",
    "\n",
    "`>` &emsp; greater than\n",
    "\n",
    "`<`  &emsp; less than\n",
    "\n",
    "`>=` &emsp;  greater than or equal\n",
    "\n",
    "`<=` &emsp; less than or equal "
   ]
  },
  {
   "cell_type": "code",
   "execution_count": null,
   "id": "159a9524",
   "metadata": {},
   "outputs": [],
   "source": [
    "x, y = 2, 5\n",
    "\n",
    "x > y"
   ]
  },
  {
   "cell_type": "code",
   "execution_count": null,
   "id": "46be6aa0",
   "metadata": {},
   "outputs": [],
   "source": [
    "x < y "
   ]
  },
  {
   "cell_type": "code",
   "execution_count": null,
   "id": "620f06e8",
   "metadata": {},
   "outputs": [],
   "source": [
    "x, y = 4, 4\n",
    "print(x == y)     # double equal sign to check if they are equal\n",
    "print( x <= y)\n",
    "print(x >= y)"
   ]
  },
  {
   "cell_type": "code",
   "execution_count": null,
   "id": "808d30ec",
   "metadata": {},
   "outputs": [],
   "source": [
    "print(x != y)"
   ]
  },
  {
   "cell_type": "code",
   "execution_count": null,
   "id": "0fe57255",
   "metadata": {},
   "outputs": [],
   "source": []
  },
  {
   "cell_type": "markdown",
   "id": "31a4f018",
   "metadata": {},
   "source": [
    "## 4. Logical Operators\n",
    "\n",
    "Used to combine conditional statements and check if a statement if `True` or `False`"
   ]
  },
  {
   "cell_type": "markdown",
   "id": "b1767463",
   "metadata": {},
   "source": [
    "### AND \n",
    "\n",
    "Checks the validity of two conditions. If both conditions are true, it is true, otherwise, is false."
   ]
  },
  {
   "cell_type": "code",
   "execution_count": 1,
   "id": "832f380f",
   "metadata": {},
   "outputs": [
    {
     "data": {
      "text/plain": [
       "True"
      ]
     },
     "execution_count": 1,
     "metadata": {},
     "output_type": "execute_result"
    }
   ],
   "source": [
    "True and True"
   ]
  },
  {
   "cell_type": "code",
   "execution_count": 2,
   "id": "ad819d8f",
   "metadata": {},
   "outputs": [
    {
     "data": {
      "text/plain": [
       "False"
      ]
     },
     "execution_count": 2,
     "metadata": {},
     "output_type": "execute_result"
    }
   ],
   "source": [
    "True and False"
   ]
  },
  {
   "cell_type": "code",
   "execution_count": 3,
   "id": "036e2385",
   "metadata": {},
   "outputs": [
    {
     "data": {
      "text/plain": [
       "False"
      ]
     },
     "execution_count": 3,
     "metadata": {},
     "output_type": "execute_result"
    }
   ],
   "source": [
    "False and False"
   ]
  },
  {
   "cell_type": "code",
   "execution_count": 4,
   "id": "2c1316cd",
   "metadata": {},
   "outputs": [
    {
     "data": {
      "text/plain": [
       "True"
      ]
     },
     "execution_count": 4,
     "metadata": {},
     "output_type": "execute_result"
    }
   ],
   "source": [
    "x, y = 5, 7\n",
    "(x < 12) and (y > 5)"
   ]
  },
  {
   "cell_type": "code",
   "execution_count": 5,
   "id": "3a0e4172",
   "metadata": {},
   "outputs": [
    {
     "data": {
      "text/plain": [
       "False"
      ]
     },
     "execution_count": 5,
     "metadata": {},
     "output_type": "execute_result"
    }
   ],
   "source": [
    "(x < 12) and (y > 15)"
   ]
  },
  {
   "cell_type": "code",
   "execution_count": 6,
   "id": "e214b3f4",
   "metadata": {},
   "outputs": [
    {
     "data": {
      "text/plain": [
       "False"
      ]
     },
     "execution_count": 6,
     "metadata": {},
     "output_type": "execute_result"
    }
   ],
   "source": [
    "(x < 4) and (y > 15)"
   ]
  },
  {
   "cell_type": "code",
   "execution_count": 7,
   "id": "af0d6f88",
   "metadata": {},
   "outputs": [
    {
     "data": {
      "text/plain": [
       "True"
      ]
     },
     "execution_count": 7,
     "metadata": {},
     "output_type": "execute_result"
    }
   ],
   "source": [
    "4 > 2 and 5 < 12 and 2 > 0"
   ]
  },
  {
   "cell_type": "code",
   "execution_count": 8,
   "id": "62c3c054",
   "metadata": {},
   "outputs": [
    {
     "data": {
      "text/plain": [
       "False"
      ]
     },
     "execution_count": 8,
     "metadata": {},
     "output_type": "execute_result"
    }
   ],
   "source": [
    "4 > 2 and 5 < 12 and 2 < 0"
   ]
  },
  {
   "cell_type": "code",
   "execution_count": 9,
   "id": "6a94a243",
   "metadata": {},
   "outputs": [
    {
     "name": "stdout",
     "output_type": "stream",
     "text": [
      "2\n",
      "False\n",
      "True\n"
     ]
    }
   ],
   "source": [
    "print(4 > 3 and 2 )\n",
    "print(4 > 5 and 2 )\n",
    "print(2 and 4 > 3 )"
   ]
  },
  {
   "cell_type": "markdown",
   "id": "4d70455b",
   "metadata": {},
   "source": [
    "### OR\n",
    "\n",
    "Checks the validity of two conditions. If one of them is true, it is true, otherwise, is false."
   ]
  },
  {
   "cell_type": "code",
   "execution_count": 10,
   "id": "c4f71eae",
   "metadata": {},
   "outputs": [
    {
     "data": {
      "text/plain": [
       "True"
      ]
     },
     "execution_count": 10,
     "metadata": {},
     "output_type": "execute_result"
    }
   ],
   "source": [
    "True or True"
   ]
  },
  {
   "cell_type": "code",
   "execution_count": 11,
   "id": "43d8e9c1",
   "metadata": {},
   "outputs": [
    {
     "data": {
      "text/plain": [
       "True"
      ]
     },
     "execution_count": 11,
     "metadata": {},
     "output_type": "execute_result"
    }
   ],
   "source": [
    "True or False"
   ]
  },
  {
   "cell_type": "code",
   "execution_count": 12,
   "id": "bd4cf29d",
   "metadata": {},
   "outputs": [
    {
     "data": {
      "text/plain": [
       "False"
      ]
     },
     "execution_count": 12,
     "metadata": {},
     "output_type": "execute_result"
    }
   ],
   "source": [
    "False or False"
   ]
  },
  {
   "cell_type": "code",
   "execution_count": 13,
   "id": "05c4ae9e",
   "metadata": {},
   "outputs": [
    {
     "data": {
      "text/plain": [
       "True"
      ]
     },
     "execution_count": 13,
     "metadata": {},
     "output_type": "execute_result"
    }
   ],
   "source": [
    "a, b = 3, 6\n",
    "a > 5 or b < 10 "
   ]
  },
  {
   "cell_type": "code",
   "execution_count": 14,
   "id": "e634f21e",
   "metadata": {},
   "outputs": [
    {
     "data": {
      "text/plain": [
       "False"
      ]
     },
     "execution_count": 14,
     "metadata": {},
     "output_type": "execute_result"
    }
   ],
   "source": [
    "a > 5 or b < 4 "
   ]
  },
  {
   "cell_type": "markdown",
   "id": "994d1be9",
   "metadata": {},
   "source": [
    "### not\n",
    "\n",
    "It negates the value of a Boolean. `True` if the operand is `False` and vice-versa."
   ]
  },
  {
   "cell_type": "code",
   "execution_count": 15,
   "id": "0d9b0e1d",
   "metadata": {},
   "outputs": [],
   "source": [
    "x, y = True, False"
   ]
  },
  {
   "cell_type": "code",
   "execution_count": 16,
   "id": "34c9a648",
   "metadata": {},
   "outputs": [
    {
     "data": {
      "text/plain": [
       "False"
      ]
     },
     "execution_count": 16,
     "metadata": {},
     "output_type": "execute_result"
    }
   ],
   "source": [
    "not x"
   ]
  },
  {
   "cell_type": "code",
   "execution_count": 17,
   "id": "db9ea141",
   "metadata": {},
   "outputs": [
    {
     "data": {
      "text/plain": [
       "True"
      ]
     },
     "execution_count": 17,
     "metadata": {},
     "output_type": "execute_result"
    }
   ],
   "source": [
    "not y"
   ]
  },
  {
   "cell_type": "code",
   "execution_count": null,
   "id": "ad3892d5",
   "metadata": {},
   "outputs": [],
   "source": []
  },
  {
   "cell_type": "code",
   "execution_count": null,
   "id": "2dac5e0f",
   "metadata": {},
   "outputs": [],
   "source": []
  },
  {
   "cell_type": "code",
   "execution_count": null,
   "id": "f985e220",
   "metadata": {},
   "outputs": [],
   "source": []
  },
  {
   "cell_type": "code",
   "execution_count": null,
   "id": "16c68f90",
   "metadata": {},
   "outputs": [],
   "source": []
  },
  {
   "cell_type": "markdown",
   "id": "0492401e",
   "metadata": {},
   "source": [
    "## 5.  Membership Operator\n",
    "\n",
    "Checks if a sequence is in an object\n",
    "\n",
    "`in`  &emsp; If variable is in the sequence then it is `True` \n",
    "\n",
    "`not in`  &emsp; If variable is not in the sequence then it is `True` "
   ]
  },
  {
   "cell_type": "code",
   "execution_count": 19,
   "id": "99220da5",
   "metadata": {},
   "outputs": [
    {
     "data": {
      "text/plain": [
       "True"
      ]
     },
     "execution_count": 19,
     "metadata": {},
     "output_type": "execute_result"
    }
   ],
   "source": [
    "list1 = [1, 2, 3]\n",
    "x = 1\n",
    "x in list1"
   ]
  },
  {
   "cell_type": "code",
   "execution_count": 20,
   "id": "c2b408a0",
   "metadata": {},
   "outputs": [
    {
     "data": {
      "text/plain": [
       "False"
      ]
     },
     "execution_count": 20,
     "metadata": {},
     "output_type": "execute_result"
    }
   ],
   "source": [
    "4 in list1"
   ]
  },
  {
   "cell_type": "code",
   "execution_count": 21,
   "id": "5baa282d",
   "metadata": {},
   "outputs": [
    {
     "data": {
      "text/plain": [
       "True"
      ]
     },
     "execution_count": 21,
     "metadata": {},
     "output_type": "execute_result"
    }
   ],
   "source": [
    "4 not in list1"
   ]
  },
  {
   "cell_type": "code",
   "execution_count": null,
   "id": "66375849",
   "metadata": {},
   "outputs": [],
   "source": []
  },
  {
   "cell_type": "markdown",
   "id": "9f76d3ff",
   "metadata": {},
   "source": [
    "## 6. Identity Operators\n",
    "\n",
    "are used to compare objects\n",
    "\n",
    "`is`  &emsp; If the operands are identical (same object), it is `True`\n",
    "\n",
    "`is not` &emsp; If the operands are not the same object, it is `True`"
   ]
  },
  {
   "cell_type": "code",
   "execution_count": 22,
   "id": "10bcebe4",
   "metadata": {},
   "outputs": [],
   "source": [
    "a = [1, 2, 3]\n",
    "b = [1, 2, 3]\n",
    "c = a"
   ]
  },
  {
   "cell_type": "code",
   "execution_count": 23,
   "id": "ec33f1ea",
   "metadata": {},
   "outputs": [
    {
     "data": {
      "text/plain": [
       "True"
      ]
     },
     "execution_count": 23,
     "metadata": {},
     "output_type": "execute_result"
    }
   ],
   "source": [
    "a is c"
   ]
  },
  {
   "cell_type": "code",
   "execution_count": 24,
   "id": "f88b284d",
   "metadata": {},
   "outputs": [
    {
     "data": {
      "text/plain": [
       "False"
      ]
     },
     "execution_count": 24,
     "metadata": {},
     "output_type": "execute_result"
    }
   ],
   "source": [
    "a is b      # a and b have same value but they are different object"
   ]
  },
  {
   "cell_type": "code",
   "execution_count": 25,
   "id": "3436d9bc",
   "metadata": {},
   "outputs": [
    {
     "data": {
      "text/plain": [
       "True"
      ]
     },
     "execution_count": 25,
     "metadata": {},
     "output_type": "execute_result"
    }
   ],
   "source": [
    "a is not b"
   ]
  },
  {
   "cell_type": "code",
   "execution_count": null,
   "id": "04ad076d",
   "metadata": {},
   "outputs": [],
   "source": []
  },
  {
   "cell_type": "markdown",
   "id": "6d87a8bd",
   "metadata": {},
   "source": [
    "## Operation Order (precedence)"
   ]
  },
  {
   "cell_type": "code",
   "execution_count": 26,
   "id": "71ed2793",
   "metadata": {},
   "outputs": [
    {
     "name": "stdout",
     "output_type": "stream",
     "text": [
      "27\n",
      "75\n"
     ]
    }
   ],
   "source": [
    "x = 12 + 3 * 5\n",
    "print(x)\n",
    "\n",
    "x1 = (12 + 3) * 5\n",
    "print(x1)"
   ]
  },
  {
   "cell_type": "markdown",
   "id": "cbbcaebd",
   "metadata": {},
   "source": [
    "1. Parentheses                                          ()\n",
    "\n",
    "2. Exponent                                             **\n",
    "\n",
    "3. Unary plus, Unary minus                              +x, -x\t\n",
    "\n",
    "4. Multiplication, Division, Floor division, Modulus    *, /, //, %\n",
    "\n",
    "5. Addition, Subtraction                                +, -\t"
   ]
  },
  {
   "cell_type": "code",
   "execution_count": null,
   "id": "1c170f0e",
   "metadata": {},
   "outputs": [],
   "source": []
  },
  {
   "cell_type": "code",
   "execution_count": null,
   "id": "7c3c416f",
   "metadata": {},
   "outputs": [],
   "source": []
  },
  {
   "cell_type": "code",
   "execution_count": null,
   "id": "a5fc8585",
   "metadata": {},
   "outputs": [],
   "source": [
    "x = 12 + 3 * 5\n",
    "x"
   ]
  },
  {
   "cell_type": "code",
   "execution_count": null,
   "id": "255f98fe",
   "metadata": {},
   "outputs": [],
   "source": [
    "x = (12 + 3) * 5\n",
    "x"
   ]
  }
 ],
 "metadata": {
  "kernelspec": {
   "display_name": "Python 3",
   "language": "python",
   "name": "python3"
  },
  "language_info": {
   "codemirror_mode": {
    "name": "ipython",
    "version": 3
   },
   "file_extension": ".py",
   "mimetype": "text/x-python",
   "name": "python",
   "nbconvert_exporter": "python",
   "pygments_lexer": "ipython3",
   "version": "3.8.3"
  }
 },
 "nbformat": 4,
 "nbformat_minor": 5
}
