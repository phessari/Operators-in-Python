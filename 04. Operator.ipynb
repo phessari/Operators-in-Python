{
 "cells": [
  {
   "cell_type": "markdown",
   "id": "1d2761bc",
   "metadata": {},
   "source": [
    "# Operators\n",
    "\n",
    "are used to perform operation between `values (variables).` \n",
    "`Operands` are the variables that the operator is applied to.\n",
    "\n",
    "`x + y`: &emsp; `x` and `y` are operand and `+` is operation.\n",
    "\n",
    "\n",
    "<b>\n",
    "    \n",
    "1. Arithmetic Operators \n",
    "\n",
    "2. Assignment Operators\n",
    "\n",
    "3. Comparison Operators\n",
    "\n",
    "4. Logical Operators\n",
    "\n",
    "5. Membership Operator\n",
    "\n",
    "6. Identity Operators  <b>"
   ]
  },
  {
   "cell_type": "markdown",
   "id": "589466da",
   "metadata": {},
   "source": [
    "## 1. Arithmatic Operators \n",
    "\n",
    "`+` &emsp; Addition  + \n",
    "\n",
    "`-` &emsp; Subtraction  - \n",
    "\n",
    "`*` &emsp; Multiplication *\n",
    "\n",
    "`/` &emsp; Division / (Integer Division //, Modulus or Remainder % )\n",
    "\n",
    "`**` &emsp; Exponential  **"
   ]
  },
  {
   "cell_type": "code",
   "execution_count": null,
   "id": "eff3ff6f",
   "metadata": {},
   "outputs": [],
   "source": [
    "x = 5\n",
    "y = 12"
   ]
  },
  {
   "cell_type": "code",
   "execution_count": null,
   "id": "eacfe575",
   "metadata": {},
   "outputs": [],
   "source": [
    "x + y"
   ]
  },
  {
   "cell_type": "code",
   "execution_count": null,
   "id": "60b62874",
   "metadata": {},
   "outputs": [],
   "source": [
    "x - y"
   ]
  },
  {
   "cell_type": "code",
   "execution_count": null,
   "id": "ee763f87",
   "metadata": {},
   "outputs": [],
   "source": [
    "x * y"
   ]
  },
  {
   "cell_type": "code",
   "execution_count": null,
   "id": "f1bcd706",
   "metadata": {},
   "outputs": [],
   "source": [
    "x / y"
   ]
  },
  {
   "cell_type": "code",
   "execution_count": null,
   "id": "d2bc62ac",
   "metadata": {},
   "outputs": [],
   "source": [
    "x // y"
   ]
  },
  {
   "cell_type": "code",
   "execution_count": null,
   "id": "8805a323",
   "metadata": {},
   "outputs": [],
   "source": [
    "x % y"
   ]
  },
  {
   "cell_type": "markdown",
   "id": "8f3c5b17",
   "metadata": {},
   "source": [
    "## 2. Assignment Operators\n",
    "\n",
    "are used to assign values to variables. \n",
    "\n",
    "\n",
    "`=` &emsp; Assignment Operator   \n",
    "  \n",
    "`+=` &emsp; Addition Assignment\n",
    "    \n",
    "`-=` &emsp; Subtraction Assignment\n",
    "    \n",
    "`*=` &emsp; Multiplication Assignment\n",
    "    \n",
    "`/=` &emsp; Division Assignment\n",
    "    \n",
    "`%=` &emsp; Remainder Assignment\n",
    "    \n",
    "`**=` &emsp; Exponent Assignment    \n"
   ]
  },
  {
   "cell_type": "code",
   "execution_count": null,
   "id": "f83dfa2a",
   "metadata": {},
   "outputs": [],
   "source": [
    "x = 2                 # assign 2 to x\n",
    "print(x)"
   ]
  },
  {
   "cell_type": "code",
   "execution_count": null,
   "id": "110e0f5c",
   "metadata": {},
   "outputs": [],
   "source": [
    "x = x + 3            # assign x + 3 to x\n",
    "print(x)"
   ]
  },
  {
   "cell_type": "code",
   "execution_count": null,
   "id": "d7fafcc0",
   "metadata": {},
   "outputs": [],
   "source": [
    "x = 2               # assign 2 to x\n",
    "x += 3              # assign x + 3 to x\n",
    "print(x)"
   ]
  },
  {
   "cell_type": "code",
   "execution_count": null,
   "id": "f6f20f97",
   "metadata": {},
   "outputs": [],
   "source": [
    "y = 12\n",
    "y -= 2\n",
    "print(y)"
   ]
  },
  {
   "cell_type": "code",
   "execution_count": null,
   "id": "fda634f6",
   "metadata": {},
   "outputs": [],
   "source": [
    "y = 12\n",
    "y /= 2\n",
    "print(y)"
   ]
  },
  {
   "cell_type": "code",
   "execution_count": null,
   "id": "f264bdf4",
   "metadata": {},
   "outputs": [],
   "source": [
    "a, b = 4, 6\n",
    "print('a =', a,' and ', 'b =', b)"
   ]
  },
  {
   "cell_type": "code",
   "execution_count": null,
   "id": "18b20750",
   "metadata": {},
   "outputs": [],
   "source": []
  },
  {
   "cell_type": "markdown",
   "id": "787824ea",
   "metadata": {},
   "source": [
    "## 3. Comparison Operators\n",
    "\n",
    "`==`  &emsp; equal\n",
    "\n",
    "`!=` &emsp; not equal\n",
    "\n",
    "`>` &emsp; greater than\n",
    "\n",
    "`<`  &emsp; less than\n",
    "\n",
    "`>=` &emsp;  greater than or equal\n",
    "\n",
    "`<=` &emsp; less than or equal "
   ]
  },
  {
   "cell_type": "code",
   "execution_count": null,
   "id": "350b4f66",
   "metadata": {},
   "outputs": [],
   "source": [
    "x, y = 2, 5\n",
    "\n",
    "x > y"
   ]
  },
  {
   "cell_type": "code",
   "execution_count": null,
   "id": "ea23a526",
   "metadata": {},
   "outputs": [],
   "source": [
    "x < y "
   ]
  },
  {
   "cell_type": "code",
   "execution_count": null,
   "id": "9d276f15",
   "metadata": {},
   "outputs": [],
   "source": [
    "x, y = 4, 4\n",
    "print(x == y)     # double equal sign to check if they are equal\n",
    "print( x <= y)\n",
    "print(x >= y)"
   ]
  },
  {
   "cell_type": "code",
   "execution_count": null,
   "id": "aa2fe891",
   "metadata": {},
   "outputs": [],
   "source": [
    "print(x != y)"
   ]
  },
  {
   "cell_type": "code",
   "execution_count": null,
   "id": "1501e491",
   "metadata": {},
   "outputs": [],
   "source": []
  },
  {
   "cell_type": "markdown",
   "id": "1938e1e2",
   "metadata": {},
   "source": [
    "## 4. Logical Operators\n",
    "\n",
    "Used to combine conditional statements and check if a statement if `True` or `False`"
   ]
  },
  {
   "cell_type": "markdown",
   "id": "3058dd89",
   "metadata": {},
   "source": [
    "### AND \n",
    "\n",
    "Checks the validity of two conditions. If both conditions are true, it is true, otherwise, is false."
   ]
  },
  {
   "cell_type": "code",
   "execution_count": 1,
   "id": "d9040fd7",
   "metadata": {},
   "outputs": [
    {
     "data": {
      "text/plain": [
       "True"
      ]
     },
     "execution_count": 1,
     "metadata": {},
     "output_type": "execute_result"
    }
   ],
   "source": [
    "True and True"
   ]
  },
  {
   "cell_type": "code",
   "execution_count": 2,
   "id": "75ddb7fd",
   "metadata": {},
   "outputs": [
    {
     "data": {
      "text/plain": [
       "False"
      ]
     },
     "execution_count": 2,
     "metadata": {},
     "output_type": "execute_result"
    }
   ],
   "source": [
    "True and False"
   ]
  },
  {
   "cell_type": "code",
   "execution_count": 3,
   "id": "d36c1a9b",
   "metadata": {},
   "outputs": [
    {
     "data": {
      "text/plain": [
       "False"
      ]
     },
     "execution_count": 3,
     "metadata": {},
     "output_type": "execute_result"
    }
   ],
   "source": [
    "False and False"
   ]
  },
  {
   "cell_type": "code",
   "execution_count": 4,
   "id": "9aba8f55",
   "metadata": {},
   "outputs": [
    {
     "data": {
      "text/plain": [
       "True"
      ]
     },
     "execution_count": 4,
     "metadata": {},
     "output_type": "execute_result"
    }
   ],
   "source": [
    "x, y = 5, 7\n",
    "(x < 12) and (y > 5)"
   ]
  },
  {
   "cell_type": "code",
   "execution_count": 5,
   "id": "ccea2ed0",
   "metadata": {},
   "outputs": [
    {
     "data": {
      "text/plain": [
       "False"
      ]
     },
     "execution_count": 5,
     "metadata": {},
     "output_type": "execute_result"
    }
   ],
   "source": [
    "(x < 12) and (y > 15)"
   ]
  },
  {
   "cell_type": "code",
   "execution_count": 6,
   "id": "f9832814",
   "metadata": {},
   "outputs": [
    {
     "data": {
      "text/plain": [
       "False"
      ]
     },
     "execution_count": 6,
     "metadata": {},
     "output_type": "execute_result"
    }
   ],
   "source": [
    "(x < 4) and (y > 15)"
   ]
  },
  {
   "cell_type": "code",
   "execution_count": 7,
   "id": "c58b573f",
   "metadata": {},
   "outputs": [
    {
     "data": {
      "text/plain": [
       "True"
      ]
     },
     "execution_count": 7,
     "metadata": {},
     "output_type": "execute_result"
    }
   ],
   "source": [
    "4 > 2 and 5 < 12 and 2 > 0"
   ]
  },
  {
   "cell_type": "code",
   "execution_count": 8,
   "id": "d4a85b97",
   "metadata": {},
   "outputs": [
    {
     "data": {
      "text/plain": [
       "False"
      ]
     },
     "execution_count": 8,
     "metadata": {},
     "output_type": "execute_result"
    }
   ],
   "source": [
    "4 > 2 and 5 < 12 and 2 < 0"
   ]
  },
  {
   "cell_type": "code",
   "execution_count": 9,
   "id": "1d33e77c",
   "metadata": {},
   "outputs": [
    {
     "name": "stdout",
     "output_type": "stream",
     "text": [
      "2\n",
      "False\n",
      "True\n"
     ]
    }
   ],
   "source": [
    "print(4 > 3 and 2 )\n",
    "print(4 > 5 and 2 )\n",
    "print(2 and 4 > 3 )"
   ]
  },
  {
   "cell_type": "markdown",
   "id": "ed5b4d46",
   "metadata": {},
   "source": [
    "### OR\n",
    "\n",
    "Checks the validity of two conditions. If one of them is true, it is true, otherwise, is false."
   ]
  },
  {
   "cell_type": "code",
   "execution_count": 10,
   "id": "80238b19",
   "metadata": {},
   "outputs": [
    {
     "data": {
      "text/plain": [
       "True"
      ]
     },
     "execution_count": 10,
     "metadata": {},
     "output_type": "execute_result"
    }
   ],
   "source": [
    "True or True"
   ]
  },
  {
   "cell_type": "code",
   "execution_count": 11,
   "id": "222f23a9",
   "metadata": {},
   "outputs": [
    {
     "data": {
      "text/plain": [
       "True"
      ]
     },
     "execution_count": 11,
     "metadata": {},
     "output_type": "execute_result"
    }
   ],
   "source": [
    "True or False"
   ]
  },
  {
   "cell_type": "code",
   "execution_count": 12,
   "id": "283cf298",
   "metadata": {},
   "outputs": [
    {
     "data": {
      "text/plain": [
       "False"
      ]
     },
     "execution_count": 12,
     "metadata": {},
     "output_type": "execute_result"
    }
   ],
   "source": [
    "False or False"
   ]
  },
  {
   "cell_type": "code",
   "execution_count": 13,
   "id": "d3ae516e",
   "metadata": {},
   "outputs": [
    {
     "data": {
      "text/plain": [
       "True"
      ]
     },
     "execution_count": 13,
     "metadata": {},
     "output_type": "execute_result"
    }
   ],
   "source": [
    "a, b = 3, 6\n",
    "a > 5 or b < 10 "
   ]
  },
  {
   "cell_type": "code",
   "execution_count": 14,
   "id": "4fa28ff8",
   "metadata": {},
   "outputs": [
    {
     "data": {
      "text/plain": [
       "False"
      ]
     },
     "execution_count": 14,
     "metadata": {},
     "output_type": "execute_result"
    }
   ],
   "source": [
    "a > 5 or b < 4 "
   ]
  },
  {
   "cell_type": "markdown",
   "id": "d345daa1",
   "metadata": {},
   "source": [
    "### not\n",
    "\n",
    "It negates the value of a Boolean. `True` if the operand is `False` and vice-versa."
   ]
  },
  {
   "cell_type": "code",
   "execution_count": 15,
   "id": "18f7c4ed",
   "metadata": {},
   "outputs": [],
   "source": [
    "x, y = True, False"
   ]
  },
  {
   "cell_type": "code",
   "execution_count": 16,
   "id": "506806fa",
   "metadata": {},
   "outputs": [
    {
     "data": {
      "text/plain": [
       "False"
      ]
     },
     "execution_count": 16,
     "metadata": {},
     "output_type": "execute_result"
    }
   ],
   "source": [
    "not x"
   ]
  },
  {
   "cell_type": "code",
   "execution_count": 17,
   "id": "9f2384a8",
   "metadata": {},
   "outputs": [
    {
     "data": {
      "text/plain": [
       "True"
      ]
     },
     "execution_count": 17,
     "metadata": {},
     "output_type": "execute_result"
    }
   ],
   "source": [
    "not y"
   ]
  },
  {
   "cell_type": "code",
   "execution_count": null,
   "id": "05a2e41a",
   "metadata": {},
   "outputs": [],
   "source": []
  },
  {
   "cell_type": "code",
   "execution_count": null,
   "id": "72ecb89f",
   "metadata": {},
   "outputs": [],
   "source": []
  },
  {
   "cell_type": "code",
   "execution_count": null,
   "id": "e8a6f598",
   "metadata": {},
   "outputs": [],
   "source": []
  },
  {
   "cell_type": "code",
   "execution_count": null,
   "id": "ab8bdb49",
   "metadata": {},
   "outputs": [],
   "source": []
  },
  {
   "cell_type": "markdown",
   "id": "450a51cd",
   "metadata": {},
   "source": [
    "## 5.  Membership Operator\n",
    "\n",
    "Checks if a sequence is in an object\n",
    "\n",
    "`in`  &emsp; If variable is in the sequence then it is `True` \n",
    "\n",
    "`not in`  &emsp; If variable is not in the sequence then it is `True` "
   ]
  },
  {
   "cell_type": "code",
   "execution_count": 19,
   "id": "5e260dd6",
   "metadata": {},
   "outputs": [
    {
     "data": {
      "text/plain": [
       "True"
      ]
     },
     "execution_count": 19,
     "metadata": {},
     "output_type": "execute_result"
    }
   ],
   "source": [
    "list1 = [1, 2, 3]\n",
    "x = 1\n",
    "x in list1"
   ]
  },
  {
   "cell_type": "code",
   "execution_count": 20,
   "id": "247cf49b",
   "metadata": {},
   "outputs": [
    {
     "data": {
      "text/plain": [
       "False"
      ]
     },
     "execution_count": 20,
     "metadata": {},
     "output_type": "execute_result"
    }
   ],
   "source": [
    "4 in list1"
   ]
  },
  {
   "cell_type": "code",
   "execution_count": 21,
   "id": "80a1b8bf",
   "metadata": {},
   "outputs": [
    {
     "data": {
      "text/plain": [
       "True"
      ]
     },
     "execution_count": 21,
     "metadata": {},
     "output_type": "execute_result"
    }
   ],
   "source": [
    "4 not in list1"
   ]
  },
  {
   "cell_type": "code",
   "execution_count": null,
   "id": "7cfd0678",
   "metadata": {},
   "outputs": [],
   "source": []
  },
  {
   "cell_type": "markdown",
   "id": "c030a331",
   "metadata": {},
   "source": [
    "## 6. Identity Operators\n",
    "\n",
    "are used to compare objects\n",
    "\n",
    "`is`  &emsp; If the operands are identical (same object), it is `True`\n",
    "\n",
    "`is not` &emsp; If the operands are not the same object, it is `True`"
   ]
  },
  {
   "cell_type": "code",
   "execution_count": 22,
   "id": "0505bd9f",
   "metadata": {},
   "outputs": [],
   "source": [
    "a = [1, 2, 3]\n",
    "b = [1, 2, 3]\n",
    "c = a"
   ]
  },
  {
   "cell_type": "code",
   "execution_count": 23,
   "id": "2d76061b",
   "metadata": {},
   "outputs": [
    {
     "data": {
      "text/plain": [
       "True"
      ]
     },
     "execution_count": 23,
     "metadata": {},
     "output_type": "execute_result"
    }
   ],
   "source": [
    "a is c"
   ]
  },
  {
   "cell_type": "code",
   "execution_count": 24,
   "id": "3597f42d",
   "metadata": {},
   "outputs": [
    {
     "data": {
      "text/plain": [
       "False"
      ]
     },
     "execution_count": 24,
     "metadata": {},
     "output_type": "execute_result"
    }
   ],
   "source": [
    "a is b      # a and b have same value but they are different object"
   ]
  },
  {
   "cell_type": "code",
   "execution_count": 25,
   "id": "0f8a1a31",
   "metadata": {},
   "outputs": [
    {
     "data": {
      "text/plain": [
       "True"
      ]
     },
     "execution_count": 25,
     "metadata": {},
     "output_type": "execute_result"
    }
   ],
   "source": [
    "a is not b"
   ]
  },
  {
   "cell_type": "code",
   "execution_count": null,
   "id": "6d0f70a6",
   "metadata": {},
   "outputs": [],
   "source": []
  },
  {
   "cell_type": "markdown",
   "id": "62668342",
   "metadata": {},
   "source": [
    "## Operation Order (precedence)"
   ]
  },
  {
   "cell_type": "code",
   "execution_count": 26,
   "id": "78d75be7",
   "metadata": {},
   "outputs": [
    {
     "name": "stdout",
     "output_type": "stream",
     "text": [
      "27\n",
      "75\n"
     ]
    }
   ],
   "source": [
    "x = 12 + 3 * 5\n",
    "print(x)\n",
    "\n",
    "x1 = (12 + 3) * 5\n",
    "print(x1)"
   ]
  },
  {
   "cell_type": "markdown",
   "id": "838c3b67",
   "metadata": {},
   "source": [
    "1. Parentheses                                          ()\n",
    "\n",
    "2. Exponent                                             **\n",
    "\n",
    "3. Unary plus, Unary minus                              +x, -x\t\n",
    "\n",
    "4. Multiplication, Division, Floor division, Modulus    *, /, //, %\n",
    "\n",
    "5. Addition, Subtraction                                +, -\t"
   ]
  },
  {
   "cell_type": "code",
   "execution_count": null,
   "id": "5cfa78b6",
   "metadata": {},
   "outputs": [],
   "source": []
  },
  {
   "cell_type": "code",
   "execution_count": null,
   "id": "1787a7cb",
   "metadata": {},
   "outputs": [],
   "source": []
  },
  {
   "cell_type": "code",
   "execution_count": null,
   "id": "97d2d2d2",
   "metadata": {},
   "outputs": [],
   "source": [
    "x = 12 + 3 * 5\n",
    "x"
   ]
  },
  {
   "cell_type": "code",
   "execution_count": null,
   "id": "6339625e",
   "metadata": {},
   "outputs": [],
   "source": [
    "x = (12 + 3) * 5\n",
    "x"
   ]
  }
 ],
 "metadata": {
  "kernelspec": {
   "display_name": "Python 3",
   "language": "python",
   "name": "python3"
  },
  "language_info": {
   "codemirror_mode": {
    "name": "ipython",
    "version": 3
   },
   "file_extension": ".py",
   "mimetype": "text/x-python",
   "name": "python",
   "nbconvert_exporter": "python",
   "pygments_lexer": "ipython3",
   "version": "3.8.3"
  }
 },
 "nbformat": 4,
 "nbformat_minor": 5
}
